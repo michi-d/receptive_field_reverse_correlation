{
 "cells": [
  {
   "cell_type": "markdown",
   "metadata": {},
   "source": [
    "## Example analysis\n",
    "\n",
    "This notebook shows how to visualize the receptive fields obtained from raw data by reverse correlation analysis (as e.g. following the method proposed in __test_analysis_photodiode.ipynb__).\n",
    "\n",
    "Here, we use the _Drosophila_ medullary interneuron Mi4 as an example. The file **data/Mi4_fly12_acq1.npy** contains three 3-dimensional reverse correlation kernels from 3 different Mi4 neurons. In the code below, the average spatial receptive field of Mi4 is calculated and visualized in an area of about 40° degrees around the receptive field center.\n",
    "\n",
    "This script is in parts similar to the data analysis in:<br>\n",
    "\n",
    "_Drews MS, Leonhardt A, Pirogova N, Richter FG, Schuetzenberger A, Braun L, Serbe E, Borst A. Dynamic Signal Compression for Robust Motion Vision in Flies. Current Biology. 2020 Jan 10._"
   ]
  },
  {
   "cell_type": "code",
   "execution_count": 8,
   "metadata": {},
   "outputs": [],
   "source": [
    "%matplotlib inline\n",
    "import numpy as np\n",
    "import matplotlib.pyplot as plt\n",
    "import pandas as pd\n",
    "import seaborn as sb\n",
    "\n",
    "import glob as glob\n",
    "import os as os\n",
    "\n",
    "import noise_analysis_py3 as noise_analysis\n",
    "import cv2 as cv2"
   ]
  },
  {
   "cell_type": "markdown",
   "metadata": {},
   "source": [
    "## Load pre-processed receptive fields"
   ]
  },
  {
   "cell_type": "code",
   "execution_count": 4,
   "metadata": {},
   "outputs": [
    {
     "name": "stdout",
     "output_type": "stream",
     "text": [
      "(64, 54, 210, 3)\n"
     ]
    }
   ],
   "source": [
    "file_list = [\"data/Mi4_fly12_acq1.npy\"]\n",
    "\n",
    "def get_RF_from_file_list(file_list, thr = 6.0):\n",
    "    \n",
    "    RF_stack = []\n",
    "    \n",
    "    for f in file_list:\n",
    "        \n",
    "        RF_file       = np.load(f)\n",
    "        z_score_peak  = np.abs(RF_file).max((0,1,2)) # determine peak amplitude\n",
    "        take          = z_score_peak > thr # take only RFs with a minimum SNR\n",
    "        \n",
    "        RF_take       = RF_file[:,:,:,take]\n",
    "        RF_stack.append(RF_take)       \n",
    "        \n",
    "    return np.concatenate(RF_stack, 3)\n",
    "\n",
    "\n",
    "RF = get_RF_from_file_list(file_list).astype(np.float64)\n",
    "print(RF.shape)"
   ]
  },
  {
   "cell_type": "markdown",
   "metadata": {},
   "source": [
    "## Center-align all receptive fields"
   ]
  },
  {
   "cell_type": "code",
   "execution_count": 5,
   "metadata": {
    "scrolled": false
   },
   "outputs": [
    {
     "data": {
      "text/plain": [
       "(15, 15, 210, 3)"
      ]
     },
     "execution_count": 5,
     "metadata": {},
     "output_type": "execute_result"
    }
   ],
   "source": [
    "def collect_RF_2D(RF, x_range, N_pixels_1, N_pixels_2, centers_1, centers_2, rotation_angles = []):\n",
    "# NOTE: The function is slightly different from last time. The output numpy array is arranged differently\n",
    "\n",
    "    ''' Centers the 2D receptive fields above each other for further analysis\n",
    "        - RF: receptive field data\n",
    "        - x_range: pixel range (left or right from center) around the receptive field to be taken for analysis\n",
    "        - N_pixels_1: total number of pixels in the stimulus for first dimension (could be different than RF.shape[0])\n",
    "        - N_pixels_2: total number of pixels in the stimulus for second dimension (could be different than RF.shape[1])\n",
    "        - centers_1: center coordinates of the receptive field for first dimension (with sub-pixel precision from the gaussian fit)\n",
    "        - centers_2: center coordinates of the receptive field for second dimension (with sub-pixel precision from the gaussian fit)\n",
    "        \n",
    "        Output: A numpy array with dimensions:  N_pixels_1 x N_pixels_3 x RF.shape[2] (time) x RF.shape[2] (ROI/cells)\n",
    "     '''\n",
    "    \n",
    "\n",
    "    N_pixels_1      = N_pixels_1\n",
    "    N_pixels_2      = N_pixels_2\n",
    "    aligned_RF      = []\n",
    "    collect_point_1 = int(RF.shape[0]/2)\n",
    "    collect_point_2 = int(RF.shape[1]/2)\n",
    "\n",
    "    i = 0\n",
    "    for i in range(RF.shape[3]):\n",
    "        R_ = np.copy(RF[:,:,:,i])\n",
    "\n",
    "        # check if an area of size xy_range around the center of the RF is not hitting the edge of the arena\n",
    "        if (centers_1[i] < x_range) or (centers_1[i] > N_pixels_1 - x_range) or (centers_2[i] < x_range) or (centers_2[i] > N_pixels_2 - x_range):\n",
    "            print(\"RF #\" + str(int(i)) + ' is too near to the edge of the arena to be used for the spatial field structure.')\n",
    "            print(\"RF #\" + str(int(i)) + \" is automatically discarded.\")\n",
    "        else:\n",
    "            \n",
    "            # translate the RF center to the \"collect_point\"\n",
    "            M = np.float32([[1, 0, collect_point_2 - centers_2[i]], [0, 1, collect_point_1 - centers_1[i]]])\n",
    "            for t in np.arange(R_.shape[2]):\n",
    "                R_[:,:,t] =  cv2.warpAffine(R_[:,:,t], M, (R_.shape[1],R_.shape[0]))\n",
    "\n",
    "            # output\n",
    "            R_ = R_[collect_point_1 - x_range: collect_point_1 + x_range + 1, collect_point_2 - x_range: collect_point_2 + x_range + 1, :]\n",
    "            R_ = np.flipud(R_)\n",
    "                        \n",
    "            aligned_RF.append(R_[:,:,:,np.newaxis])\n",
    "\n",
    "    aligned_RF = np.concatenate(aligned_RF, 3)\n",
    "    return aligned_RF\n",
    "\n",
    "\n",
    "\n",
    "def center_align_RF(RF, N_pixels = 7):\n",
    "    \n",
    "    ''' Takes raw RFs, finds their centers (via fitting a Gaussian), and center-aligns them using the function \"collect_RF_2D\"\n",
    "        - N_pixels : number of pixels to either side of the center (output array will have 2*N_pixels + 1 pixels)\n",
    "        \n",
    "        Output: center_aligned RF stack with dimensions (space1 x space2 x time x ROI/cells)\n",
    "    '''\n",
    "\n",
    "    RF_normalized, maxima, maxima_i, maxima_j, maxima_t, centers_i, centers_j, sigma_i, sigma_j, a_i, a_j = noise_analysis.pre_analyse_rev_corr_2D(RF, printMode = True, already_normalized = False)\n",
    "\n",
    "    #N_pixels   = 7\n",
    "    aligned_RF = collect_RF_2D(RF_normalized, N_pixels, RF_normalized.shape[0], RF_normalized.shape[1], centers_i, centers_j)\n",
    "    aligned_RF = aligned_RF/np.abs(aligned_RF[:,:,:,:]).max((0,1,2))[np.newaxis, np.newaxis, np.newaxis, :]\n",
    "    \n",
    "    return aligned_RF\n",
    "\n",
    "\n",
    "N_pixels   = 7\n",
    "aligned_RF = center_align_RF(RF, N_pixels)\n",
    "aligned_RF.shape"
   ]
  },
  {
   "cell_type": "code",
   "execution_count": 6,
   "metadata": {},
   "outputs": [
    {
     "data": {
      "image/png": "[encoded data removed]",
      "text/plain": [
       "<Figure size 216x216 with 2 Axes>"
      ]
     },
     "metadata": {},
     "output_type": "display_data"
    },
    {
     "data": {
      "image/png": "[encoded data removed]",
      "text/plain": [
       "<Figure size 216x216 with 2 Axes>"
      ]
     },
     "metadata": {},
     "output_type": "display_data"
    },
    {
     "data": {
      "image/png": "[encoded data removed]",
      "text/plain": [
       "<Figure size 216x216 with 2 Axes>"
      ]
     },
     "metadata": {},
     "output_type": "display_data"
    }
   ],
   "source": [
    "# OPTIONAL: Rotate the receptive fields (e.g. for asymmetric receptive fields)\n",
    "\n",
    "def rotate_RF(aligned_RF, rotation_angles = [], plot = False):\n",
    "\n",
    "    ''' Takes center-aligned RF. Assumes the center of an odd-number length array is the peak of the RF.\n",
    "        Rotates each RF by the angle given in the array rotation_angles.\n",
    "        \n",
    "        - aligned_RF       :  center-aligned RFs\n",
    "        - rotation_angles  :  list of rotation angles / same length as aligned_RF.shape[3]\n",
    "        - plot             :  Optionally plot before and after rotation RFs\n",
    "        \n",
    "        Output: \n",
    "        \n",
    "    '''\n",
    "    \n",
    "    rot_aligned_RF = np.copy(aligned_RF)\n",
    "    for n in range(rot_aligned_RF.shape[3]):\n",
    "        \n",
    "        if plot:\n",
    "            fig = plt.figure(figsize = (3,3))\n",
    "            ax  = plt.subplot(121)\n",
    "            indmax              = np.argmax(np.abs(rot_aligned_RF[:,:,:,n]))\n",
    "            max_i, max_j, max_t = np.unravel_index(indmax, rot_aligned_RF.shape[:3]) # find the position of the peak (also in time dimension)\n",
    "            plt.imshow(rot_aligned_RF[:,:,max_t,n])\n",
    "            ax.set_yticks([])\n",
    "            ax.set_xticks([])\n",
    "        \n",
    "        center  = int(np.floor(float(rot_aligned_RF.shape[0])/2.0)) # center pixel\n",
    "        rot_phi = rotation_angles[n]\n",
    "        scale   = 1.0\n",
    "        \n",
    "        M       = cv2.getRotationMatrix2D((center, center), rot_phi, scale)\n",
    "        for t in np.arange(rot_aligned_RF.shape[2]):\n",
    "            rot_aligned_RF[:,:,t,n] =  cv2.warpAffine(rot_aligned_RF[:,:,t,n], M, (rot_aligned_RF[:,:,t,n].shape[1], rot_aligned_RF[:,:,t,n].shape[0]))\n",
    "        \n",
    "        if plot:\n",
    "            ax  = plt.subplot(122)\n",
    "            plt.imshow(rot_aligned_RF[:,:,max_t,n])\n",
    "            ax.set_yticks([])\n",
    "            ax.set_xticks([])\n",
    "\n",
    "    return rot_aligned_RF\n",
    "\n",
    "\n",
    "\n",
    "# Just for demonstration, rot_aligned_RF is not used in the code below !\n",
    "# EXAMPLE: rotate all RF by 90 degrees\n",
    "\n",
    "rotation_angles = [90]*aligned_RF.shape[3]\n",
    "rot_aligned_RF  = rotate_RF(aligned_RF, rotation_angles, plot = True)\n"
   ]
  },
  {
   "cell_type": "markdown",
   "metadata": {},
   "source": [
    "## Get average 2D spatial RF"
   ]
  },
  {
   "cell_type": "code",
   "execution_count": 7,
   "metadata": {},
   "outputs": [
    {
     "data": {
      "text/plain": [
       "[Text(1, 0, '-0.25'), Text(1, 0, '0'), Text(1, 0, '0.25')]"
      ]
     },
     "execution_count": 7,
     "metadata": {},
     "output_type": "execute_result"
    },
    {
     "data": {
      "image/png": "[encoded data removed]",
      "text/plain": [
       "<Figure size 216x216 with 2 Axes>"
      ]
     },
     "metadata": {
      "needs_background": "light"
     },
     "output_type": "display_data"
    }
   ],
   "source": [
    "def get_spatialRF_2D(aligned_RF):\n",
    "    indmax              = np.argmax(np.abs(aligned_RF.mean(3)))\n",
    "    max_i, max_j, max_t = np.unravel_index(indmax, aligned_RF.mean(3).shape) # find the position of the peak (also in time dimension)\n",
    "    spatial_RF          = aligned_RF[:,:,max_t-1:max_t+2,:].mean(2) # mean at 50ms around peak\n",
    "    spatial_RF          = spatial_RF/np.abs(spatial_RF).max((0,1))[np.newaxis,np.newaxis,:]\n",
    "    \n",
    "    return spatial_RF\n",
    "\n",
    "spatial_RF = get_spatialRF_2D(aligned_RF).mean(2)\n",
    "\n",
    "# show 2D spatial RF\n",
    "fig = plt.figure(figsize = (3, 3))\n",
    "ax  = plt.subplot(111)\n",
    "\n",
    "img = plt.imshow(spatial_RF, vmin = -0.25, vmax = 0.25, cmap = 'bwr')\n",
    "\n",
    "ax.set_yticks([N_pixels - 20/(180/64.), N_pixels, N_pixels + 20/(180/64.)]) # pixel width in degree = 180° / 64 pixels\n",
    "ax.set_xticks([N_pixels - 20/(180/64.), N_pixels, N_pixels + 20/(180/64.)]) # pixel width in degree = 180° / 64 pixels\n",
    "ax.set_yticklabels([20, 0, -20], fontsize = 20)\n",
    "ax.set_xticklabels([-20, 0, 20], fontsize = 20)\n",
    "\n",
    "sb.despine(ax = ax, top = False, right = False)\n",
    "\n",
    "ax.set_xlabel('Azimuth ($\\degree$)', fontsize = 20)\n",
    "ax.set_ylabel('Elevation ($\\degree$)', fontsize = 20)\n",
    "\n",
    "cb       = plt.colorbar(img, fraction=0.043, pad=0.1, ticks=[-0.25, 0, 0.25])\n",
    "cb.ax.set_yticklabels([-0.25,0,0.25])\n",
    "ticklabs = cb.ax.get_yticklabels()\n",
    "cb.ax.set_yticklabels(ticklabs, fontsize=20)"
   ]
  },
  {
   "cell_type": "code",
   "execution_count": null,
   "metadata": {},
   "outputs": [],
   "source": []
  }
 ],
 "metadata": {
  "kernelspec": {
   "display_name": "Python 3",
   "language": "python",
   "name": "python3"
  },
  "language_info": {
   "codemirror_mode": {
    "name": "ipython",
    "version": 3
   },
   "file_extension": ".py",
   "mimetype": "text/x-python",
   "name": "python",
   "nbconvert_exporter": "python",
   "pygments_lexer": "ipython3",
   "version": "3.7.7"
  }
 },
 "nbformat": 4,
 "nbformat_minor": 1
}
